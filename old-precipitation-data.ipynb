{
 "cells": [
  {
   "cell_type": "markdown",
   "metadata": {},
   "source": [
    "### PRECIPITATION"
   ]
  },
  {
   "cell_type": "markdown",
   "metadata": {},
   "source": [
    "OLD DATA"
   ]
  },
  {
   "cell_type": "code",
   "execution_count": null,
   "metadata": {},
   "outputs": [],
   "source": [
    "import os\n",
    "import numpy as np\n",
    "import pandas as pd\n",
    "import geopandas as gpd\n",
    "import matplotlib.pyplot as plt\n",
    "%matplotlib inline\n",
    "import rasterio\n",
    "from rasterio.plot import show_hist\n",
    "import requests"
   ]
  },
  {
   "cell_type": "code",
   "execution_count": null,
   "metadata": {},
   "outputs": [],
   "source": [
    "#setting up dates variable\n",
    "months = np.arange(1,13)\n",
    "months = np.char.mod('%d', months)\n",
    "\n",
    "n = len(months)\n",
    "for i in range(n):\n",
    "    if len(months[i]) == 1:\n",
    "        months[i] = '0'+months[i]\n",
    "    else:\n",
    "        months[i] = months[i]\n",
    "        \n",
    "days = np.arange(1, 32)\n",
    "days = np.char.mod('%d', days)\n",
    "for i in range(n):\n",
    "    if len(days[i]) == 1:\n",
    "        days[i] = '0'+days[i]\n",
    "    else:\n",
    "        days[i] = days[i]\n",
    "        \n",
    "temp = [(x, y) for x in months for y in days]\n",
    "dates = []\n",
    "for tup in temp:\n",
    "    dates.append(''.join(tup))\n"
   ]
  },
  {
   "cell_type": "code",
   "execution_count": null,
   "metadata": {},
   "outputs": [],
   "source": [
    "# DOWNLOADING FILES\n",
    "\n",
    "#2019 remove: 31 from 04, 06, 11 & 29,30,31 from 02\n",
    "Remove19 = ('0431', '0631','0631','1131','0229','0230','0231')\n",
    "dates2019 = [e for e in dates if e not in Remove19]\n",
    "\n",
    "#2020 remove: 31 from 04, 06, 11 & 30,31 from 02\n",
    "Remove20 = ('0431', '0631','0631','1131','0230','0231')\n",
    "dates2020 = [e for e in dates if e not in Remove20]\n",
    "\n",
    "\n",
    "2019\n",
    "file_pfx = 'https://www.ncei.noaa.gov/data/precipitation-persiann/access/2019/PERSIANN-CDR_v01r01_2019'\n",
    "file_sfx = '_c20190806.nc'\n",
    "\n",
    "for date in dates2019:\n",
    "    url2019 = file_pfx+date+file_sfx\n",
    "    r = requests.get(url2019, allow_redirects = True)\n",
    "    open('2019'+date+'.nc', 'wb').write(r.content)\n",
    "    \n",
    "    \n",
    "2020\n",
    "file_pfx = 'https://www.ncei.noaa.gov/data/precipitation-persiann/access/2020/PERSIANN-CDR_v01r01_2020'\n",
    "file_sfx = '_c20200522.nc'\n",
    "\n",
    "for date in dates2020:\n",
    "    url2020 = file_pfx+date+file_sfx\n",
    "    r = requests.get(url2020, allow_redirects = True)\n",
    "    open('2020'+date+'.nc', 'wb').write(r.content)"
   ]
  },
  {
   "cell_type": "code",
   "execution_count": null,
   "metadata": {},
   "outputs": [],
   "source": [
    "from netCDF4 import Dataset\n",
    "nc_file = 'C:/Users/rache/Downloads/data_science/berries/precipitation/GPM/20190104.nc'\n",
    "fh = Dataset(nc_file, mode='r')"
   ]
  },
  {
   "cell_type": "code",
   "execution_count": null,
   "metadata": {},
   "outputs": [],
   "source": [
    "print(fh)"
   ]
  },
  {
   "cell_type": "code",
   "execution_count": null,
   "metadata": {},
   "outputs": [],
   "source": [
    "#accessing the variables\n",
    "lon = fh.variables['lon']\n",
    "lat = fh.variables['lat']\n",
    "time = fh.variables['time']\n",
    "precip = fh.variables['precipitation']"
   ]
  },
  {
   "cell_type": "code",
   "execution_count": null,
   "metadata": {},
   "outputs": [],
   "source": [
    "print(precip)"
   ]
  },
  {
   "cell_type": "code",
   "execution_count": null,
   "metadata": {},
   "outputs": [],
   "source": [
    "#accesssing the data\n",
    "lon_data = lon[:]\n",
    "lat_data = lat[:]\n",
    "time_data = time[:]\n",
    "precip_data = precip[:]"
   ]
  },
  {
   "cell_type": "code",
   "execution_count": null,
   "metadata": {},
   "outputs": [],
   "source": [
    "type(lon_data)"
   ]
  },
  {
   "cell_type": "markdown",
   "metadata": {},
   "source": [
    "### OTHER DATA"
   ]
  },
  {
   "cell_type": "code",
   "execution_count": null,
   "metadata": {},
   "outputs": [],
   "source": [
    "from netCDF4 import Dataset\n",
    "nc_file = 'C:/Users/rache/Downloads/data_science/berries/precipitation/precip.mon.mean.nc'\n",
    "precipData = Dataset(nc_file, mode='r')"
   ]
  },
  {
   "cell_type": "code",
   "execution_count": null,
   "metadata": {},
   "outputs": [],
   "source": [
    "print(precipData.variables)"
   ]
  },
  {
   "cell_type": "code",
   "execution_count": null,
   "metadata": {},
   "outputs": [],
   "source": [
    "#accessing the variables\n",
    "lon = precipData.variables['lon'][:]\n",
    "lat = precipData.variables['lat'][:]\n",
    "time = precipData.variables['time'][:]\n",
    "precip = precipData.variables['precip'][:]"
   ]
  },
  {
   "cell_type": "code",
   "execution_count": null,
   "metadata": {},
   "outputs": [],
   "source": [
    "precip.shape"
   ]
  },
  {
   "cell_type": "code",
   "execution_count": null,
   "metadata": {},
   "outputs": [],
   "source": [
    "subset = precip[495:497, 61:62, 19:33]"
   ]
  },
  {
   "cell_type": "code",
   "execution_count": null,
   "metadata": {},
   "outputs": [],
   "source": [
    "print(subset)"
   ]
  }
 ],
 "metadata": {
  "kernelspec": {
   "display_name": "Python 3",
   "language": "python",
   "name": "python3"
  },
  "language_info": {
   "codemirror_mode": {
    "name": "ipython",
    "version": 3
   },
   "file_extension": ".py",
   "mimetype": "text/x-python",
   "name": "python",
   "nbconvert_exporter": "python",
   "pygments_lexer": "ipython3",
   "version": "3.7.4"
  }
 },
 "nbformat": 4,
 "nbformat_minor": 4
}
